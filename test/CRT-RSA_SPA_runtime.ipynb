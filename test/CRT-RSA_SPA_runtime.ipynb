{
 "cells": [
  {
   "attachments": {},
   "cell_type": "markdown",
   "metadata": {},
   "source": [
    "## 实验8：USB KEY中CRT-RSA的SPA"
   ]
  },
  {
   "attachments": {},
   "cell_type": "markdown",
   "metadata": {},
   "source": [
    "### 核心问题\n",
    "1、观察平方、乘两种操作的差异\n",
    "\n",
    "2、噪声干扰和精度的要求"
   ]
  },
  {
   "attachments": {},
   "cell_type": "markdown",
   "metadata": {},
   "source": [
    "##### 导入库函数和能量波形数据"
   ]
  },
  {
   "cell_type": "code",
   "execution_count": null,
   "metadata": {},
   "outputs": [],
   "source": [
    "import plotly.graph_objs as go\n",
    "import scipy.io as sio\n",
    "import scipy.signal as signal\n",
    "from scipy.ndimage import gaussian_filter1d\n",
    "import numpy as np"
   ]
  },
  {
   "cell_type": "code",
   "execution_count": null,
   "metadata": {},
   "outputs": [],
   "source": [
    "# 加载.mat文件\n",
    "mat_file = sio.loadmat('trace10.mat')"
   ]
  },
  {
   "attachments": {},
   "cell_type": "markdown",
   "metadata": {},
   "source": [
    "##### 截取f1和f2部分变量"
   ]
  },
  {
   "cell_type": "code",
   "execution_count": null,
   "metadata": {},
   "outputs": [],
   "source": [
    "# 获取变量\n",
    "data = mat_file['trace']"
   ]
  },
  {
   "cell_type": "code",
   "execution_count": null,
   "metadata": {},
   "outputs": [],
   "source": [
    "# 获取中间两段数据\n",
    "start_index1 = 1306850\n",
    "end_index1 = 2046440\n",
    "middle_data1 = data[2, start_index1:end_index1]\n",
    "\n",
    "#start_index2 = 2387000\n",
    "#end_index2 = 3143000\n",
    "#middle_data2 = data[0, start_index2:end_index2]"
   ]
  },
  {
   "attachments": {},
   "cell_type": "markdown",
   "metadata": {},
   "source": [
    "##### 绘制原始图像"
   ]
  },
  {
   "cell_type": "code",
   "execution_count": null,
   "metadata": {},
   "outputs": [],
   "source": [
    "# 绘制原始图像\n",
    "fig = go.Figure()\n",
    "fig.add_trace(go.Scatter(x = list(range(len(middle_data1))), y = middle_data1, mode='lines')) # 原始图像\n",
    "fig.show()"
   ]
  },
  {
   "attachments": {},
   "cell_type": "markdown",
   "metadata": {},
   "source": [
    "##### 进行高斯滤波观察"
   ]
  },
  {
   "cell_type": "code",
   "execution_count": null,
   "metadata": {},
   "outputs": [],
   "source": [
    "# 对中间一段数据进行高斯滤波\n",
    "sigma = 20\n",
    "middle_filtered_data1 = gaussian_filter1d(middle_data1, sigma=sigma)\n",
    "# middle_filtered_data2 = gaussian_filter1d(middle_data2, sigma=sigma)\n",
    "\n",
    "fig.add_trace(go.Scatter(x = list(range(len(middle_filtered_data1))), y = middle_filtered_data1, mode='lines')) # 高斯滤波图像\n",
    "fig.show()"
   ]
  },
  {
   "attachments": {},
   "cell_type": "markdown",
   "metadata": {},
   "source": [
    "##### 切片区分"
   ]
  },
  {
   "attachments": {},
   "cell_type": "markdown",
   "metadata": {},
   "source": [
    "采用滑动平均滤波和中值滤波对波形进行处理"
   ]
  },
  {
   "cell_type": "code",
   "execution_count": null,
   "metadata": {},
   "outputs": [],
   "source": [
    "# 滑动平均滤波\n",
    "window_size = 200  # 设置滑动窗口大小\n",
    "pad_width = (window_size + 1) // 2 # 边缘填充\n",
    "window = np.ones(window_size) / float(window_size)\n",
    "middle_smooth_data1 = np.convolve(middle_data1, window, 'valid')\n",
    "#middle_smooth_data2 = np.convolve(middle_data2, window, 'valid')\n",
    "# 边缘填充\n",
    "middle_smooth_data1 = np.pad(middle_smooth_data1, (pad_width, pad_width), mode='edge')\n",
    "#middle_smooth_data2 = np.pad(middle_smooth_data2, (pad_width, pad_width), mode='edge')\n",
    "\n",
    "# 中值滤波\n",
    "middle_medfilt_data1 = signal.medfilt(middle_smooth_data1, kernel_size = 101)\n",
    "#middle_medfilt_data2 = signal.medfilt(middle_smooth_data2, kernel_size = 101)\n",
    "\n",
    "fig.add_trace(go.Scatter(x = list(range(len(middle_smooth_data1))), y = middle_smooth_data1, mode='lines')) # 滑动滤波图像\n",
    "fig.add_trace(go.Scatter(x = list(range(len(middle_medfilt_data1))), y = middle_medfilt_data1, mode='lines')) # 中值滤波图像\n",
    "fig.show()"
   ]
  },
  {
   "attachments": {},
   "cell_type": "markdown",
   "metadata": {},
   "source": [
    "采用signal中find_peaks函数查找波谷"
   ]
  },
  {
   "cell_type": "code",
   "execution_count": null,
   "metadata": {},
   "outputs": [],
   "source": [
    "# 查找峰值\n",
    "neg_data = -middle_medfilt_data1\n",
    "peaks , _ = signal.find_peaks(neg_data, distance = 600)\n",
    "neg_peaks = -neg_data[peaks]\n",
    "\n",
    "print(len(peaks))\n",
    "\n",
    "sep_test = np.zeros(len(middle_data1))\n",
    "for i in range(len(sep_test)):\n",
    "    if i in peaks:\n",
    "        sep_test[i] = -0.5\n",
    "\n",
    "fig.add_trace(go.Scatter(x = list(range(len(sep_test))), y = sep_test, mode='lines')) # 绘制反向尖峰\n",
    "fig.show()"
   ]
  },
  {
   "cell_type": "code",
   "execution_count": null,
   "metadata": {},
   "outputs": [],
   "source": [
    "# 统计操作类型数目\n",
    "operation_SM = len(peaks) - 1 - 512\n",
    "operation_S = 512 - operation_SM"
   ]
  },
  {
   "attachments": {},
   "cell_type": "markdown",
   "metadata": {},
   "source": [
    "共得到747个反向尖峰，说明共746个操作，对于512bit的运算，应该有234个平方+乘操作，278个平方操作"
   ]
  },
  {
   "attachments": {},
   "cell_type": "markdown",
   "metadata": {},
   "source": [
    "##### 统计运算时间"
   ]
  },
  {
   "cell_type": "code",
   "execution_count": null,
   "metadata": {},
   "outputs": [],
   "source": [
    "# 计算每个操作的运行时间\n",
    "runtime = []\n",
    "for i in range(len(peaks)-1):\n",
    "    runtime.append(peaks[i+1]-160-peaks[i]-120)"
   ]
  },
  {
   "cell_type": "code",
   "execution_count": null,
   "metadata": {},
   "outputs": [],
   "source": [
    "# 绘制散点图\n",
    "fig_variance = go.Figure(data=go.Scatter(x=list(range(len(runtime))), y=runtime, mode='markers'))\n",
    "fig_variance.show()"
   ]
  },
  {
   "attachments": {},
   "cell_type": "markdown",
   "metadata": {},
   "source": [
    "##### 特征识别"
   ]
  },
  {
   "cell_type": "code",
   "execution_count": null,
   "metadata": {},
   "outputs": [],
   "source": [
    "# 快速排序查找分割点\n",
    "def quick_sort(arr):\n",
    "    if len(arr) <= 1:\n",
    "        return arr\n",
    "    else:\n",
    "        pivot = arr[0]\n",
    "        left = [x for x in arr[1:] if x >= pivot]\n",
    "        right = [x for x in arr[1:] if x < pivot]\n",
    "        return quick_sort(left) + [pivot] + quick_sort(right)\n",
    "\n",
    "sorted_runtime = quick_sort(runtime)\n",
    "print(sorted_runtime[operation_SM-1]) # 分割点"
   ]
  },
  {
   "cell_type": "code",
   "execution_count": null,
   "metadata": {},
   "outputs": [],
   "source": [
    "# 特征识别\n",
    "symbol_list = []\n",
    "feature_spiltpoint = sorted_runtime[operation_SM-1]\n",
    "\n",
    "for i in range(len(runtime)-1):\n",
    "    if runtime[i] < feature_spiltpoint:\n",
    "        symbol_list.append('S')\n",
    "    elif runtime[i] > feature_spiltpoint-1:\n",
    "        symbol_list.append('M')\n",
    "\n",
    "print(len(symbol_list))\n",
    "print(symbol_list)"
   ]
  },
  {
   "cell_type": "code",
   "execution_count": null,
   "metadata": {},
   "outputs": [],
   "source": [
    "# 查找目标操作序列\n",
    "encode_str = ''.join(symbol_list)\n",
    "test_str = 'SSSMSSSSSMSSSSM'\n",
    "index = encode_str.find(test_str)\n",
    "\n",
    "if index != -1:\n",
    "    print(f\"索引值为 {index}\")\n",
    "else:\n",
    "    print(f\"原字符串中不包含字符串 '{test_str}'\")\n",
    "\n",
    "print(encode_str[index:index+91])"
   ]
  },
  {
   "attachments": {},
   "cell_type": "markdown",
   "metadata": {},
   "source": [
    "##### 提高准确度"
   ]
  },
  {
   "attachments": {},
   "cell_type": "markdown",
   "metadata": {},
   "source": [
    "投票法"
   ]
  },
  {
   "attachments": {
    "image.png": {
     "image/png": "[encoded data removed]"
    }
   },
   "cell_type": "markdown",
   "metadata": {},
   "source": [
    "记录九条波得到的操作结果，这里采用投票法可以得到正确的答案\n",
    "\n",
    "![image.png](attachment:image.png)"
   ]
  },
  {
   "attachments": {},
   "cell_type": "markdown",
   "metadata": {},
   "source": [
    "平均值法"
   ]
  },
  {
   "attachments": {
    "image.png": {
     "image/png": "[encoded data removed]"
    }
   },
   "cell_type": "markdown",
   "metadata": {},
   "source": [
    "对九条波得到的结果取平均值，可以比较明显区分平方和乘两种操作在运行时间上的界限\n",
    "\n",
    "![image.png](attachment:image.png)"
   ]
  },
  {
   "cell_type": "code",
   "execution_count": null,
   "metadata": {},
   "outputs": [],
   "source": [
    "# 特征识别\n",
    "with open('average_list.txt', 'r') as file:\n",
    "    average_list = file.readline()\n",
    "average_list = list(map(int, eval(average_list)))\n",
    "\n",
    "symbol_list = []\n",
    "feature_spiltpoint = 748\n",
    "for i in range(len(average_list)-1):\n",
    "    if average_list[i] < feature_spiltpoint and average_list[i+1] < feature_spiltpoint:\n",
    "        symbol_list.append('0')\n",
    "    elif average_list[i] < feature_spiltpoint and average_list[i+1] > feature_spiltpoint-1:\n",
    "        symbol_list.append('1')\n",
    "\n",
    "symbol_str = ''.join(symbol_list)\n",
    "print(symbol_str)"
   ]
  },
  {
   "attachments": {},
   "cell_type": "markdown",
   "metadata": {},
   "source": [
    "##### 总结"
   ]
  },
  {
   "attachments": {},
   "cell_type": "markdown",
   "metadata": {},
   "source": [
    "1、综合利用横轴纵轴信息\n",
    "\n",
    "2、如何在噪音干扰和精确度不高的情况下提高准确度\n",
    "\n",
    "3、如何抹除轮询噪音"
   ]
  }
 ],
 "metadata": {
  "kernelspec": {
   "display_name": "Python 3",
   "language": "python",
   "name": "python3"
  },
  "language_info": {
   "codemirror_mode": {
    "name": "ipython",
    "version": 3
   },
   "file_extension": ".py",
   "mimetype": "text/x-python",
   "name": "python",
   "nbconvert_exporter": "python",
   "pygments_lexer": "ipython3",
   "version": "3.9.7"
  },
  "orig_nbformat": 4
 },
 "nbformat": 4,
 "nbformat_minor": 2
}
